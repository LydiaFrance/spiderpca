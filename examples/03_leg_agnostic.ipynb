{
 "cells": [
  {
   "cell_type": "markdown",
   "metadata": {},
   "source": [
    "# Spider Movement Analysis using PCA\n",
    "\n",
    "# Part 3: Leg Agnostic PCA\n",
    "\n",
    "## Introduction\n",
    "\n",
    "This notebook analyses how spiders move by looking at 3D recordings of their body positions. We use a technique called Principal Component Analysis (PCA) to break down complex spider movements into simpler, fundamental motion patterns. This helps us understand how spiders coordinate their legs and body during different behaviours.\n",
    "\n",
    "Here we will rotate and reflect the legs such that every leg is in the same position relative to the body. This means the PCA will find patterns in the legs that are independent of leg identity. While the spider no doubtedly coordinates its legs, this analysis is about finding the controls of each leg. Comparing the scores for each leg will then give some idea of how they are used differently. \n",
    "\n",
    "Treating the legs agnostically has an advantage over the full shape PCA. There will be a higer number of rows to columns (as there is now just coxa, patella, tibia-metatarsal, and claw, not claws 1-8 etc). The effect of measurement error will now be much smaller. We can find the coordinations across legs by looking at the scores, but this leg agnostic model could also be the first step to remove spurious datapoints. \n",
    "\n",
    "The main challenge is rotating the legs to the same position. We cannot use a \"leg vector\" from the base of the leg to some point on the leg because this would remove the rotational freedom of the leg that is controlled by the spider. For example, if we measure a vector from the base of the leg (coxa) to the patella (first joint), for every leg position this will remove the actual rotation of the leg at this joint. The same for coxa to claw or anything else on the leg. \n",
    "\n",
    "Here I have tried to find a vector between each coxa and some other reference point on the cephalothorax. The cephalothorax should be rigid, but there is freedom of movement between the cephalothorax and abdomen. I have also reflected the left side of the spider to the right to copy the bilateral symmetry of the spider. \n",
    "\n",
    "I am also going to test whether a leg-agnostic PCA with reflection can find the leg-direction as a component. \n",
    "\n",
    "\n",
    "<img src=\"./images/spider_defs.png\" alt=\"Spider\" style=\"width: 60%;\">\n",
    "\n",
    "## Setup and Data Loading"
   ]
  },
  {
   "cell_type": "code",
   "execution_count": 1,
   "metadata": {},
   "outputs": [],
   "source": [
    "%load_ext autoreload\n",
    "%autoreload 2\n",
    "%matplotlib inline\n",
    "%config InlineBackend.figure_format='svg'\n",
    "\n",
    "import numpy as np\n",
    "import pandas as pd\n",
    "import matplotlib.pyplot as plt\n",
    "\n",
    "\n",
    "from pathlib import Path\n",
    "\n",
    "from morphing_birds import Spider3D, plot_plotly, animate_plotly, animate_plotly_compare, animate\n",
    "from spiderpca import (run_PCA, plot_explained, get_score_range, reconstruct, \n",
    "                       create_scores_dataframe, plot_pc_experiment, plot_pc_histogram)"
   ]
  }
 ],
 "metadata": {
  "kernelspec": {
   "display_name": ".venv",
   "language": "python",
   "name": "python3"
  },
  "language_info": {
   "codemirror_mode": {
    "name": "ipython",
    "version": 3
   },
   "file_extension": ".py",
   "mimetype": "text/x-python",
   "name": "python",
   "nbconvert_exporter": "python",
   "pygments_lexer": "ipython3",
   "version": "3.12.7"
  }
 },
 "nbformat": 4,
 "nbformat_minor": 2
}
